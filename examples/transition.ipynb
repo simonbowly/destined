{
 "cells": [
  {
   "cell_type": "code",
   "execution_count": null,
   "metadata": {},
   "outputs": [],
   "source": [
    "import json\n",
    "import numpy as np\n",
    "import pandas as pd\n",
    "%matplotlib inline\n",
    "import matplotlib.pyplot as plt\n",
    "import seaborn as sns\n",
    "sns.set_style('white')"
   ]
  },
  {
   "cell_type": "code",
   "execution_count": null,
   "metadata": {},
   "outputs": [],
   "source": [
    "# Run this command to generate the required file.\n",
    "# destined evaluate /path/to/destined/examples/random-graphs.json 100000 random-graphs.res\n",
    "with open('random-graphs.res') as infile:\n",
    "    df_graphs = pd.DataFrame([json.loads(entry.strip()) for entry in infile])"
   ]
  },
  {
   "cell_type": "code",
   "execution_count": null,
   "metadata": {},
   "outputs": [],
   "source": [
    "def plot(nodes, upper_density, label):\n",
    "    df = df_graphs[(df_graphs.nodes == nodes) & (df_graphs.density < upper_density)]\n",
    "    result = df.groupby(pd.cut(df.density, bins=20)).connected.mean().reset_index()\n",
    "    result['density'] = result['density'].apply(lambda x: round((x.left + x.right) / 2, 3))\n",
    "    plt.plot(\n",
    "        list(result['density']), list(result['connected']),\n",
    "        '-', label=label)\n",
    "\n",
    "plt.subplots(figsize=(8, 5))\n",
    "plot(20, 0.4, '20 Nodes')\n",
    "plot(50, 0.30, '50 Nodes')\n",
    "plot(100, 0.15, '100 Nodes')\n",
    "plt.legend()\n",
    "plt.xlabel('Graph Density')\n",
    "plt.ylabel('Probability Graph is Connected')\n",
    "plt.title('Phase Transition in Random Graphs')\n",
    "plt.savefig('figures/random-graphs.png')"
   ]
  },
  {
   "cell_type": "code",
   "execution_count": null,
   "metadata": {},
   "outputs": [],
   "source": [
    "# Run this command to generate the required file.\n",
    "# destined evaluate /path/to/destined/examples/random-3sat.json 10000 random-3sat.res\n",
    "with open('random-3sat.res') as infile:\n",
    "    df_sat = pd.DataFrame([json.loads(entry.strip()) for entry in infile])\n",
    "df_sat.head()"
   ]
  },
  {
   "cell_type": "code",
   "execution_count": null,
   "metadata": {},
   "outputs": [],
   "source": [
    "df = df_sat[df_sat.satisfiable.notnull() & (df_sat.nclauses.between(300, 700))]\n",
    "result = df.groupby(pd.cut(df.nclauses, bins=30)).mean()\n",
    "fig, ax1 = plt.subplots(figsize=(8, 5))\n",
    "ax1.plot(\n",
    "    result['nclauses'], result['satisfiable'],\n",
    "    label='Prob. Satisfiable', color=sns.color_palette()[0])\n",
    "ax1.set_ylabel('Probability Formula is Feasible', color=sns.color_palette()[0])\n",
    "ax2 = ax1.twinx()\n",
    "ax2.plot(\n",
    "    result['nclauses'], result['clasp_cpu_time'],\n",
    "    label='Solve Time', color=sns.color_palette()[1])\n",
    "ax2.set_ylabel('Solve Time', color=sns.color_palette()[1])\n",
    "ax1.set_xlabel('Number of Clauses')\n",
    "plt.title('Phase Transition in Random 3-SAT with 100 Variables')\n",
    "plt.savefig('figures/random-3sat.png')"
   ]
  },
  {
   "cell_type": "code",
   "execution_count": null,
   "metadata": {},
   "outputs": [],
   "source": []
  }
 ],
 "metadata": {
  "kernelspec": {
   "display_name": "Python 3",
   "language": "python",
   "name": "python3"
  },
  "language_info": {
   "codemirror_mode": {
    "name": "ipython",
    "version": 3
   },
   "file_extension": ".py",
   "mimetype": "text/x-python",
   "name": "python",
   "nbconvert_exporter": "python",
   "pygments_lexer": "ipython3",
   "version": "3.6.4"
  }
 },
 "nbformat": 4,
 "nbformat_minor": 2
}
